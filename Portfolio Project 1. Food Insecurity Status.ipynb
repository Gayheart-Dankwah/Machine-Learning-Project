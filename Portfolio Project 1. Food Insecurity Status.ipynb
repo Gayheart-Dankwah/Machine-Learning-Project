{
 "cells": [
  {
   "cell_type": "code",
   "execution_count": 1,
   "id": "6be6fdfc",
   "metadata": {},
   "outputs": [],
   "source": [
    "# importing modules\n",
    "import pandas as pd\n",
    "import numpy as np\n",
    "import statsmodels.api as st\n",
    "import seaborn as sns\n",
    "import matplotlib.pylab as plt\n",
    "import sklearn as sk\n",
    "plt.style.use('ggplot')"
   ]
  },
  {
   "cell_type": "code",
   "execution_count": 2,
   "id": "987f5a93",
   "metadata": {},
   "outputs": [],
   "source": [
    "# importing Food security data\n",
    "# let FS stand for Food security\n",
    "FS_data=pd.read_csv('DataFS.csv')\n"
   ]
  },
  {
   "cell_type": "code",
   "execution_count": 3,
   "id": "6a66316e",
   "metadata": {},
   "outputs": [
    {
     "data": {
      "text/html": [
       "<div>\n",
       "<style scoped>\n",
       "    .dataframe tbody tr th:only-of-type {\n",
       "        vertical-align: middle;\n",
       "    }\n",
       "\n",
       "    .dataframe tbody tr th {\n",
       "        vertical-align: top;\n",
       "    }\n",
       "\n",
       "    .dataframe thead th {\n",
       "        text-align: right;\n",
       "    }\n",
       "</style>\n",
       "<table border=\"1\" class=\"dataframe\">\n",
       "  <thead>\n",
       "    <tr style=\"text-align: right;\">\n",
       "      <th></th>\n",
       "      <th>ID</th>\n",
       "      <th>site</th>\n",
       "      <th>hhedu</th>\n",
       "      <th>hhhage</th>\n",
       "      <th>hhhsex</th>\n",
       "      <th>hhethnic</th>\n",
       "      <th>hhsize</th>\n",
       "      <th>u05</th>\n",
       "      <th>povline</th>\n",
       "      <th>windex3</th>\n",
       "      <th>windex5</th>\n",
       "      <th>FS_score</th>\n",
       "      <th>FS</th>\n",
       "    </tr>\n",
       "  </thead>\n",
       "  <tbody>\n",
       "    <tr>\n",
       "      <th>0</th>\n",
       "      <td>766</td>\n",
       "      <td>viwandani</td>\n",
       "      <td>primary</td>\n",
       "      <td>18.0</td>\n",
       "      <td>female</td>\n",
       "      <td>Other</td>\n",
       "      <td>6</td>\n",
       "      <td>1</td>\n",
       "      <td>yes</td>\n",
       "      <td>middle</td>\n",
       "      <td>fourth</td>\n",
       "      <td>0</td>\n",
       "      <td>Secure</td>\n",
       "    </tr>\n",
       "    <tr>\n",
       "      <th>1</th>\n",
       "      <td>6540</td>\n",
       "      <td>viwandani</td>\n",
       "      <td>primary</td>\n",
       "      <td>31.0</td>\n",
       "      <td>male</td>\n",
       "      <td>Other</td>\n",
       "      <td>1</td>\n",
       "      <td>0</td>\n",
       "      <td>yes</td>\n",
       "      <td>lowest</td>\n",
       "      <td>lowest</td>\n",
       "      <td>3</td>\n",
       "      <td>Severely insecure</td>\n",
       "    </tr>\n",
       "    <tr>\n",
       "      <th>2</th>\n",
       "      <td>9327</td>\n",
       "      <td>viwandani</td>\n",
       "      <td>primary</td>\n",
       "      <td>45.0</td>\n",
       "      <td>male</td>\n",
       "      <td>Other</td>\n",
       "      <td>1</td>\n",
       "      <td>0</td>\n",
       "      <td>no_(2)</td>\n",
       "      <td>highest</td>\n",
       "      <td>fourth</td>\n",
       "      <td>0</td>\n",
       "      <td>Secure</td>\n",
       "    </tr>\n",
       "    <tr>\n",
       "      <th>3</th>\n",
       "      <td>9563</td>\n",
       "      <td>viwandani</td>\n",
       "      <td>secondary</td>\n",
       "      <td>18.0</td>\n",
       "      <td>male</td>\n",
       "      <td>Other</td>\n",
       "      <td>1</td>\n",
       "      <td>0</td>\n",
       "      <td>no_(2)</td>\n",
       "      <td>middle</td>\n",
       "      <td>second</td>\n",
       "      <td>1</td>\n",
       "      <td>Moderately insecure</td>\n",
       "    </tr>\n",
       "    <tr>\n",
       "      <th>4</th>\n",
       "      <td>9631</td>\n",
       "      <td>korogocho</td>\n",
       "      <td>secondary</td>\n",
       "      <td>58.0</td>\n",
       "      <td>male</td>\n",
       "      <td>Other</td>\n",
       "      <td>2</td>\n",
       "      <td>1</td>\n",
       "      <td>no_(2)</td>\n",
       "      <td>highest</td>\n",
       "      <td>fourth</td>\n",
       "      <td>0</td>\n",
       "      <td>Secure</td>\n",
       "    </tr>\n",
       "  </tbody>\n",
       "</table>\n",
       "</div>"
      ],
      "text/plain": [
       "     ID       site      hhedu  hhhage  hhhsex hhethnic  hhsize  u05 povline  \\\n",
       "0   766  viwandani    primary    18.0  female    Other       6    1     yes   \n",
       "1  6540  viwandani    primary    31.0    male    Other       1    0     yes   \n",
       "2  9327  viwandani    primary    45.0    male    Other       1    0  no_(2)   \n",
       "3  9563  viwandani  secondary    18.0    male    Other       1    0  no_(2)   \n",
       "4  9631  korogocho  secondary    58.0    male    Other       2    1  no_(2)   \n",
       "\n",
       "   windex3 windex5  FS_score                   FS  \n",
       "0   middle  fourth         0               Secure  \n",
       "1   lowest  lowest         3    Severely insecure  \n",
       "2  highest  fourth         0               Secure  \n",
       "3   middle  second         1  Moderately insecure  \n",
       "4  highest  fourth         0               Secure  "
      ]
     },
     "execution_count": 3,
     "metadata": {},
     "output_type": "execute_result"
    }
   ],
   "source": [
    "#viewing the first five rows of the data\n",
    "FS_data.head()"
   ]
  },
  {
   "cell_type": "code",
   "execution_count": 4,
   "id": "c937097f",
   "metadata": {},
   "outputs": [
    {
     "data": {
      "text/plain": [
       "(10991, 13)"
      ]
     },
     "execution_count": 4,
     "metadata": {},
     "output_type": "execute_result"
    }
   ],
   "source": [
    "# checking the number of rows and columns in the data\n",
    "FS_data.shape"
   ]
  },
  {
   "cell_type": "markdown",
   "id": "114b64db",
   "metadata": {},
   "source": [
    "\n"
   ]
  },
  {
   "cell_type": "code",
   "execution_count": 5,
   "id": "073f5c04",
   "metadata": {},
   "outputs": [],
   "source": [
    "# there are 10991 rows and 13 columns"
   ]
  },
  {
   "cell_type": "code",
   "execution_count": 6,
   "id": "b0f92881",
   "metadata": {},
   "outputs": [
    {
     "data": {
      "text/plain": [
       "ID            int64\n",
       "site         object\n",
       "hhedu        object\n",
       "hhhage      float64\n",
       "hhhsex       object\n",
       "hhethnic     object\n",
       "hhsize        int64\n",
       "u05           int64\n",
       "povline      object\n",
       "windex3      object\n",
       "windex5      object\n",
       "FS_score      int64\n",
       "FS           object\n",
       "dtype: object"
      ]
     },
     "execution_count": 6,
     "metadata": {},
     "output_type": "execute_result"
    }
   ],
   "source": [
    "# checking all the data types\n",
    "FS_data.dtypes"
   ]
  },
  {
   "cell_type": "markdown",
   "id": "e5c23f8c",
   "metadata": {},
   "source": [
    "\n",
    "# cleaning the data"
   ]
  },
  {
   "cell_type": "code",
   "execution_count": 7,
   "id": "475d3f2b",
   "metadata": {},
   "outputs": [
    {
     "data": {
      "text/plain": [
       "ID          0.00\n",
       "site        0.00\n",
       "hhedu       0.15\n",
       "hhhage      0.05\n",
       "hhhsex      0.00\n",
       "hhethnic    0.05\n",
       "hhsize      0.00\n",
       "u05         0.00\n",
       "povline     0.05\n",
       "windex3     0.00\n",
       "windex5     0.00\n",
       "FS_score    0.00\n",
       "FS          0.04\n",
       "dtype: float64"
      ]
     },
     "execution_count": 7,
     "metadata": {},
     "output_type": "execute_result"
    }
   ],
   "source": [
    "# checking for missing values\n",
    "FS_data.isnull().mean().round(4)*100"
   ]
  },
  {
   "cell_type": "code",
   "execution_count": 8,
   "id": "d5c7dba1",
   "metadata": {},
   "outputs": [],
   "source": [
    "# using a 15% threshold , I am dropping all missing values since missing values(x) is less or equal to 15%\n",
    "FS_data=FS_data.dropna(axis=0,how='any')"
   ]
  },
  {
   "cell_type": "code",
   "execution_count": 9,
   "id": "de93ab03",
   "metadata": {},
   "outputs": [
    {
     "data": {
      "text/plain": [
       "ID          0.0\n",
       "site        0.0\n",
       "hhedu       0.0\n",
       "hhhage      0.0\n",
       "hhhsex      0.0\n",
       "hhethnic    0.0\n",
       "hhsize      0.0\n",
       "u05         0.0\n",
       "povline     0.0\n",
       "windex3     0.0\n",
       "windex5     0.0\n",
       "FS_score    0.0\n",
       "FS          0.0\n",
       "dtype: float64"
      ]
     },
     "execution_count": 9,
     "metadata": {},
     "output_type": "execute_result"
    }
   ],
   "source": [
    "# rechecking if all missing values has been droped\n",
    "FS_data.isnull().mean().round(4)*100"
   ]
  },
  {
   "cell_type": "code",
   "execution_count": 10,
   "id": "bcb3802f",
   "metadata": {},
   "outputs": [],
   "source": [
    "# Validating the data by changing household head age datatype from float to integers\n",
    "import warnings \n",
    "warnings.filterwarnings('ignore')\n",
    "FS_data['hhhage']=FS_data['hhhage'].astype('int64')"
   ]
  },
  {
   "cell_type": "code",
   "execution_count": 11,
   "id": "65f4a555",
   "metadata": {},
   "outputs": [
    {
     "data": {
      "text/plain": [
       "dtype('int64')"
      ]
     },
     "execution_count": 11,
     "metadata": {},
     "output_type": "execute_result"
    }
   ],
   "source": [
    "#rechecking the datatype of household head age\n",
    "FS_data['hhhage'].dtype"
   ]
  },
  {
   "cell_type": "code",
   "execution_count": 12,
   "id": "1b86bf52",
   "metadata": {},
   "outputs": [],
   "source": [
    "# replacing no_(2) in the column poverty line with no\n",
    "FS_data['povline']=FS_data['povline'].replace({'no_(2)':'no'})\n"
   ]
  },
  {
   "cell_type": "code",
   "execution_count": 13,
   "id": "1334be03",
   "metadata": {},
   "outputs": [
    {
     "data": {
      "text/html": [
       "<div>\n",
       "<style scoped>\n",
       "    .dataframe tbody tr th:only-of-type {\n",
       "        vertical-align: middle;\n",
       "    }\n",
       "\n",
       "    .dataframe tbody tr th {\n",
       "        vertical-align: top;\n",
       "    }\n",
       "\n",
       "    .dataframe thead th {\n",
       "        text-align: right;\n",
       "    }\n",
       "</style>\n",
       "<table border=\"1\" class=\"dataframe\">\n",
       "  <thead>\n",
       "    <tr style=\"text-align: right;\">\n",
       "      <th></th>\n",
       "      <th>ID</th>\n",
       "      <th>site</th>\n",
       "      <th>hhedu</th>\n",
       "      <th>hhhage</th>\n",
       "      <th>hhhsex</th>\n",
       "      <th>hhethnic</th>\n",
       "      <th>hhsize</th>\n",
       "      <th>u05</th>\n",
       "      <th>povline</th>\n",
       "      <th>windex3</th>\n",
       "      <th>windex5</th>\n",
       "      <th>FS_score</th>\n",
       "      <th>FS</th>\n",
       "    </tr>\n",
       "  </thead>\n",
       "  <tbody>\n",
       "    <tr>\n",
       "      <th>0</th>\n",
       "      <td>766</td>\n",
       "      <td>viwandani</td>\n",
       "      <td>primary</td>\n",
       "      <td>18</td>\n",
       "      <td>female</td>\n",
       "      <td>Other</td>\n",
       "      <td>6</td>\n",
       "      <td>1</td>\n",
       "      <td>yes</td>\n",
       "      <td>middle</td>\n",
       "      <td>fourth</td>\n",
       "      <td>0</td>\n",
       "      <td>Secure</td>\n",
       "    </tr>\n",
       "    <tr>\n",
       "      <th>1</th>\n",
       "      <td>6540</td>\n",
       "      <td>viwandani</td>\n",
       "      <td>primary</td>\n",
       "      <td>31</td>\n",
       "      <td>male</td>\n",
       "      <td>Other</td>\n",
       "      <td>1</td>\n",
       "      <td>0</td>\n",
       "      <td>yes</td>\n",
       "      <td>lowest</td>\n",
       "      <td>lowest</td>\n",
       "      <td>3</td>\n",
       "      <td>Severely insecure</td>\n",
       "    </tr>\n",
       "    <tr>\n",
       "      <th>2</th>\n",
       "      <td>9327</td>\n",
       "      <td>viwandani</td>\n",
       "      <td>primary</td>\n",
       "      <td>45</td>\n",
       "      <td>male</td>\n",
       "      <td>Other</td>\n",
       "      <td>1</td>\n",
       "      <td>0</td>\n",
       "      <td>no</td>\n",
       "      <td>highest</td>\n",
       "      <td>fourth</td>\n",
       "      <td>0</td>\n",
       "      <td>Secure</td>\n",
       "    </tr>\n",
       "    <tr>\n",
       "      <th>3</th>\n",
       "      <td>9563</td>\n",
       "      <td>viwandani</td>\n",
       "      <td>secondary</td>\n",
       "      <td>18</td>\n",
       "      <td>male</td>\n",
       "      <td>Other</td>\n",
       "      <td>1</td>\n",
       "      <td>0</td>\n",
       "      <td>no</td>\n",
       "      <td>middle</td>\n",
       "      <td>second</td>\n",
       "      <td>1</td>\n",
       "      <td>Moderately insecure</td>\n",
       "    </tr>\n",
       "    <tr>\n",
       "      <th>4</th>\n",
       "      <td>9631</td>\n",
       "      <td>korogocho</td>\n",
       "      <td>secondary</td>\n",
       "      <td>58</td>\n",
       "      <td>male</td>\n",
       "      <td>Other</td>\n",
       "      <td>2</td>\n",
       "      <td>1</td>\n",
       "      <td>no</td>\n",
       "      <td>highest</td>\n",
       "      <td>fourth</td>\n",
       "      <td>0</td>\n",
       "      <td>Secure</td>\n",
       "    </tr>\n",
       "  </tbody>\n",
       "</table>\n",
       "</div>"
      ],
      "text/plain": [
       "     ID       site      hhedu  hhhage  hhhsex hhethnic  hhsize  u05 povline  \\\n",
       "0   766  viwandani    primary      18  female    Other       6    1     yes   \n",
       "1  6540  viwandani    primary      31    male    Other       1    0     yes   \n",
       "2  9327  viwandani    primary      45    male    Other       1    0      no   \n",
       "3  9563  viwandani  secondary      18    male    Other       1    0      no   \n",
       "4  9631  korogocho  secondary      58    male    Other       2    1      no   \n",
       "\n",
       "   windex3 windex5  FS_score                   FS  \n",
       "0   middle  fourth         0               Secure  \n",
       "1   lowest  lowest         3    Severely insecure  \n",
       "2  highest  fourth         0               Secure  \n",
       "3   middle  second         1  Moderately insecure  \n",
       "4  highest  fourth         0               Secure  "
      ]
     },
     "execution_count": 13,
     "metadata": {},
     "output_type": "execute_result"
    }
   ],
   "source": [
    "# rechecking to see if wrong input(no_(2)) in the povline column has been replaced\n",
    "FS_data.head()"
   ]
  },
  {
   "cell_type": "code",
   "execution_count": 14,
   "id": "1a5973b0",
   "metadata": {},
   "outputs": [],
   "source": [
    "# the column ID is not relevant to the problem, dropping ID\n",
    "FS_data_new=FS_data.drop('ID',axis=1)"
   ]
  },
  {
   "cell_type": "code",
   "execution_count": 15,
   "id": "52f22bf7",
   "metadata": {},
   "outputs": [
    {
     "data": {
      "text/html": [
       "<div>\n",
       "<style scoped>\n",
       "    .dataframe tbody tr th:only-of-type {\n",
       "        vertical-align: middle;\n",
       "    }\n",
       "\n",
       "    .dataframe tbody tr th {\n",
       "        vertical-align: top;\n",
       "    }\n",
       "\n",
       "    .dataframe thead th {\n",
       "        text-align: right;\n",
       "    }\n",
       "</style>\n",
       "<table border=\"1\" class=\"dataframe\">\n",
       "  <thead>\n",
       "    <tr style=\"text-align: right;\">\n",
       "      <th></th>\n",
       "      <th>site</th>\n",
       "      <th>hhedu</th>\n",
       "      <th>hhhage</th>\n",
       "      <th>hhhsex</th>\n",
       "      <th>hhethnic</th>\n",
       "      <th>hhsize</th>\n",
       "      <th>u05</th>\n",
       "      <th>povline</th>\n",
       "      <th>windex3</th>\n",
       "      <th>windex5</th>\n",
       "      <th>FS_score</th>\n",
       "      <th>FS</th>\n",
       "    </tr>\n",
       "  </thead>\n",
       "  <tbody>\n",
       "    <tr>\n",
       "      <th>0</th>\n",
       "      <td>viwandani</td>\n",
       "      <td>primary</td>\n",
       "      <td>18</td>\n",
       "      <td>female</td>\n",
       "      <td>Other</td>\n",
       "      <td>6</td>\n",
       "      <td>1</td>\n",
       "      <td>yes</td>\n",
       "      <td>middle</td>\n",
       "      <td>fourth</td>\n",
       "      <td>0</td>\n",
       "      <td>Secure</td>\n",
       "    </tr>\n",
       "    <tr>\n",
       "      <th>1</th>\n",
       "      <td>viwandani</td>\n",
       "      <td>primary</td>\n",
       "      <td>31</td>\n",
       "      <td>male</td>\n",
       "      <td>Other</td>\n",
       "      <td>1</td>\n",
       "      <td>0</td>\n",
       "      <td>yes</td>\n",
       "      <td>lowest</td>\n",
       "      <td>lowest</td>\n",
       "      <td>3</td>\n",
       "      <td>Severely insecure</td>\n",
       "    </tr>\n",
       "    <tr>\n",
       "      <th>2</th>\n",
       "      <td>viwandani</td>\n",
       "      <td>primary</td>\n",
       "      <td>45</td>\n",
       "      <td>male</td>\n",
       "      <td>Other</td>\n",
       "      <td>1</td>\n",
       "      <td>0</td>\n",
       "      <td>no</td>\n",
       "      <td>highest</td>\n",
       "      <td>fourth</td>\n",
       "      <td>0</td>\n",
       "      <td>Secure</td>\n",
       "    </tr>\n",
       "    <tr>\n",
       "      <th>3</th>\n",
       "      <td>viwandani</td>\n",
       "      <td>secondary</td>\n",
       "      <td>18</td>\n",
       "      <td>male</td>\n",
       "      <td>Other</td>\n",
       "      <td>1</td>\n",
       "      <td>0</td>\n",
       "      <td>no</td>\n",
       "      <td>middle</td>\n",
       "      <td>second</td>\n",
       "      <td>1</td>\n",
       "      <td>Moderately insecure</td>\n",
       "    </tr>\n",
       "    <tr>\n",
       "      <th>4</th>\n",
       "      <td>korogocho</td>\n",
       "      <td>secondary</td>\n",
       "      <td>58</td>\n",
       "      <td>male</td>\n",
       "      <td>Other</td>\n",
       "      <td>2</td>\n",
       "      <td>1</td>\n",
       "      <td>no</td>\n",
       "      <td>highest</td>\n",
       "      <td>fourth</td>\n",
       "      <td>0</td>\n",
       "      <td>Secure</td>\n",
       "    </tr>\n",
       "  </tbody>\n",
       "</table>\n",
       "</div>"
      ],
      "text/plain": [
       "        site      hhedu  hhhage  hhhsex hhethnic  hhsize  u05 povline  \\\n",
       "0  viwandani    primary      18  female    Other       6    1     yes   \n",
       "1  viwandani    primary      31    male    Other       1    0     yes   \n",
       "2  viwandani    primary      45    male    Other       1    0      no   \n",
       "3  viwandani  secondary      18    male    Other       1    0      no   \n",
       "4  korogocho  secondary      58    male    Other       2    1      no   \n",
       "\n",
       "   windex3 windex5  FS_score                   FS  \n",
       "0   middle  fourth         0               Secure  \n",
       "1   lowest  lowest         3    Severely insecure  \n",
       "2  highest  fourth         0               Secure  \n",
       "3   middle  second         1  Moderately insecure  \n",
       "4  highest  fourth         0               Secure  "
      ]
     },
     "execution_count": 15,
     "metadata": {},
     "output_type": "execute_result"
    }
   ],
   "source": [
    "FS_data_new.head()"
   ]
  },
  {
   "cell_type": "markdown",
   "id": "e353f6f8",
   "metadata": {},
   "source": [
    "# Exploratory Analysis"
   ]
  },
  {
   "cell_type": "code",
   "execution_count": 16,
   "id": "5be15f88",
   "metadata": {},
   "outputs": [
    {
     "data": {
      "text/plain": [
       "male      8312\n",
       "female    2644\n",
       "Name: hhhsex, dtype: int64"
      ]
     },
     "execution_count": 16,
     "metadata": {},
     "output_type": "execute_result"
    }
   ],
   "source": [
    "# finding the number of female household heads and the number of male household heads \n",
    "HS= FS_data_new['hhhsex'].value_counts()\n",
    "HS"
   ]
  },
  {
   "cell_type": "code",
   "execution_count": 17,
   "id": "e95d245c",
   "metadata": {},
   "outputs": [
    {
     "data": {
      "text/plain": [
       "Text(0.5, 1.0, 'Proportion of male to female household heads')"
      ]
     },
     "execution_count": 17,
     "metadata": {},
     "output_type": "execute_result"
    },
    {
     "data": {
      "image/png": "[encoded data removed]",
      "text/plain": [
       "<Figure size 504x504 with 1 Axes>"
      ]
     },
     "metadata": {},
     "output_type": "display_data"
    }
   ],
   "source": [
    "# creating a list with the result gotten\n",
    "HHhcount=[8312,2644]\n",
    "LABELS =['Male','Female']\n",
    "\n",
    "# a pie chart to illustrate the proportion of male to female householdheads\n",
    "sns.set_style('whitegrid')\n",
    "plt.figure(figsize=(7,7))\n",
    "plt.pie(HHhcount,labels=LABELS,autopct='%1.1f%%')\n",
    "plt.title('Proportion of male to female household heads')\n"
   ]
  },
  {
   "cell_type": "markdown",
   "id": "9c32ebe7",
   "metadata": {},
   "source": []
  },
  {
   "cell_type": "code",
   "execution_count": 66,
   "id": "cfac4130",
   "metadata": {},
   "outputs": [],
   "source": [
    "# changing all object datatypes to Category datatypes\n",
    "convertdtypes={k:'category'for k in FS_data_new.select_dtypes(include='object').columns}\n"
   ]
  },
  {
   "cell_type": "code",
   "execution_count": 19,
   "id": "3dbd6053",
   "metadata": {},
   "outputs": [],
   "source": [
    "#checking if all object data types are now in category datatypes"
   ]
  },
  {
   "cell_type": "code",
   "execution_count": 67,
   "id": "accc8801",
   "metadata": {},
   "outputs": [
    {
     "data": {
      "text/plain": [
       "{'site': 'category',\n",
       " 'hhedu': 'category',\n",
       " 'hhhsex': 'category',\n",
       " 'hhethnic': 'category',\n",
       " 'povline': 'category',\n",
       " 'windex3': 'category',\n",
       " 'windex5': 'category',\n",
       " 'FS': 'category'}"
      ]
     },
     "execution_count": 67,
     "metadata": {},
     "output_type": "execute_result"
    }
   ],
   "source": [
    "convertdtypes"
   ]
  },
  {
   "cell_type": "code",
   "execution_count": 21,
   "id": "c2274241",
   "metadata": {},
   "outputs": [
    {
     "data": {
      "text/plain": [
       "<seaborn.axisgrid.FacetGrid at 0x25ca435da30>"
      ]
     },
     "execution_count": 21,
     "metadata": {},
     "output_type": "execute_result"
    },
    {
     "data": {
      "image/png": "[encoded data removed]",
      "text/plain": [
       "<Figure size 360x360 with 1 Axes>"
      ]
     },
     "metadata": {},
     "output_type": "display_data"
    }
   ],
   "source": [
    "# Checking the distribution for the ages of house hold heads\n",
    "\n",
    "sns.displot(FS_data_new['hhhage'],kde=True)\n",
    "\n"
   ]
  },
  {
   "cell_type": "code",
   "execution_count": 22,
   "id": "35bc274a",
   "metadata": {},
   "outputs": [],
   "source": [
    "# this implies most of the house hold heads are within the working age group. few are above age 60\n",
    "# Most of them are more active and young"
   ]
  },
  {
   "cell_type": "code",
   "execution_count": 23,
   "id": "9c93a078",
   "metadata": {},
   "outputs": [],
   "source": [
    "# checking the relationship between education and food security"
   ]
  },
  {
   "cell_type": "code",
   "execution_count": 24,
   "id": "ec787bac",
   "metadata": {},
   "outputs": [
    {
     "data": {
      "text/html": [
       "<div>\n",
       "<style scoped>\n",
       "    .dataframe tbody tr th:only-of-type {\n",
       "        vertical-align: middle;\n",
       "    }\n",
       "\n",
       "    .dataframe tbody tr th {\n",
       "        vertical-align: top;\n",
       "    }\n",
       "\n",
       "    .dataframe thead th {\n",
       "        text-align: right;\n",
       "    }\n",
       "</style>\n",
       "<table border=\"1\" class=\"dataframe\">\n",
       "  <thead>\n",
       "    <tr style=\"text-align: right;\">\n",
       "      <th>FS</th>\n",
       "      <th>Moderately insecure</th>\n",
       "      <th>Secure</th>\n",
       "      <th>Severely insecure</th>\n",
       "    </tr>\n",
       "    <tr>\n",
       "      <th>hhedu</th>\n",
       "      <th></th>\n",
       "      <th></th>\n",
       "      <th></th>\n",
       "    </tr>\n",
       "  </thead>\n",
       "  <tbody>\n",
       "    <tr>\n",
       "      <th>highest</th>\n",
       "      <td>0.013052</td>\n",
       "      <td>0.017981</td>\n",
       "      <td>0.005568</td>\n",
       "    </tr>\n",
       "    <tr>\n",
       "      <th>never attended</th>\n",
       "      <td>0.016429</td>\n",
       "      <td>0.019259</td>\n",
       "      <td>0.019168</td>\n",
       "    </tr>\n",
       "    <tr>\n",
       "      <th>primary</th>\n",
       "      <td>0.161190</td>\n",
       "      <td>0.176798</td>\n",
       "      <td>0.100402</td>\n",
       "    </tr>\n",
       "    <tr>\n",
       "      <th>secondary</th>\n",
       "      <td>0.165663</td>\n",
       "      <td>0.216320</td>\n",
       "      <td>0.088171</td>\n",
       "    </tr>\n",
       "  </tbody>\n",
       "</table>\n",
       "</div>"
      ],
      "text/plain": [
       "FS              Moderately insecure    Secure  Severely insecure\n",
       "hhedu                                                           \n",
       "highest                    0.013052  0.017981           0.005568\n",
       "never attended             0.016429  0.019259           0.019168\n",
       "primary                    0.161190  0.176798           0.100402\n",
       "secondary                  0.165663  0.216320           0.088171"
      ]
     },
     "execution_count": 24,
     "metadata": {},
     "output_type": "execute_result"
    }
   ],
   "source": [
    "relationship=pd.crosstab(FS_data_new['hhedu'],FS_data_new['FS'],normalize='all')\n",
    "relationship"
   ]
  },
  {
   "cell_type": "code",
   "execution_count": 25,
   "id": "55903ac5",
   "metadata": {},
   "outputs": [
    {
     "data": {
      "text/plain": [
       "<AxesSubplot:xlabel='FS', ylabel='hhedu'>"
      ]
     },
     "execution_count": 25,
     "metadata": {},
     "output_type": "execute_result"
    },
    {
     "data": {
      "image/png": "[encoded data removed]",
      "text/plain": [
       "<Figure size 432x288 with 2 Axes>"
      ]
     },
     "metadata": {},
     "output_type": "display_data"
    }
   ],
   "source": [
    "sns.heatmap(relationship,annot=True)"
   ]
  },
  {
   "cell_type": "code",
   "execution_count": 26,
   "id": "a8c901d9",
   "metadata": {},
   "outputs": [],
   "source": [
    "# it is interesting see that individuals whose highest education level was secondary had 22% Food security\n",
    "# those with secondary and primary have a high food security"
   ]
  },
  {
   "cell_type": "code",
   "execution_count": 27,
   "id": "1a0d220d",
   "metadata": {},
   "outputs": [
    {
     "data": {
      "text/plain": [
       "<AxesSubplot:xlabel='FS', ylabel='count'>"
      ]
     },
     "execution_count": 27,
     "metadata": {},
     "output_type": "execute_result"
    },
    {
     "data": {
      "image/png": "[encoded data removed]",
      "text/plain": [
       "<Figure size 432x288 with 1 Axes>"
      ]
     },
     "metadata": {},
     "output_type": "display_data"
    }
   ],
   "source": [
    "# The ditribution of individuals with access to health and quality food\n",
    "\n",
    "sns.countplot(FS_data_new['FS'])"
   ]
  },
  {
   "cell_type": "code",
   "execution_count": 28,
   "id": "97064811",
   "metadata": {},
   "outputs": [
    {
     "data": {
      "text/html": [
       "<div>\n",
       "<style scoped>\n",
       "    .dataframe tbody tr th:only-of-type {\n",
       "        vertical-align: middle;\n",
       "    }\n",
       "\n",
       "    .dataframe tbody tr th {\n",
       "        vertical-align: top;\n",
       "    }\n",
       "\n",
       "    .dataframe thead th {\n",
       "        text-align: right;\n",
       "    }\n",
       "</style>\n",
       "<table border=\"1\" class=\"dataframe\">\n",
       "  <thead>\n",
       "    <tr style=\"text-align: right;\">\n",
       "      <th></th>\n",
       "      <th>index</th>\n",
       "      <th>FS</th>\n",
       "    </tr>\n",
       "  </thead>\n",
       "  <tbody>\n",
       "    <tr>\n",
       "      <th>0</th>\n",
       "      <td>Secure</td>\n",
       "      <td>0.430358</td>\n",
       "    </tr>\n",
       "    <tr>\n",
       "      <th>1</th>\n",
       "      <td>Moderately insecure</td>\n",
       "      <td>0.356334</td>\n",
       "    </tr>\n",
       "    <tr>\n",
       "      <th>2</th>\n",
       "      <td>Severely insecure</td>\n",
       "      <td>0.213308</td>\n",
       "    </tr>\n",
       "  </tbody>\n",
       "</table>\n",
       "</div>"
      ],
      "text/plain": [
       "                 index        FS\n",
       "0               Secure  0.430358\n",
       "1  Moderately insecure  0.356334\n",
       "2    Severely insecure  0.213308"
      ]
     },
     "execution_count": 28,
     "metadata": {},
     "output_type": "execute_result"
    }
   ],
   "source": [
    "FS_DIST=FS_data_new['FS'].value_counts(1).reset_index()\n",
    "pd.DataFrame(FS_DIST)"
   ]
  },
  {
   "cell_type": "code",
   "execution_count": 29,
   "id": "43928a2e",
   "metadata": {},
   "outputs": [],
   "source": [
    "# about 43% percent of the households living in the four neighborhoods had access to quality and healthy food."
   ]
  },
  {
   "cell_type": "code",
   "execution_count": 31,
   "id": "e6eec4d4",
   "metadata": {},
   "outputs": [
    {
     "data": {
      "text/plain": [
       "no     0.581599\n",
       "yes    0.418401\n",
       "Name: povline, dtype: float64"
      ]
     },
     "execution_count": 31,
     "metadata": {},
     "output_type": "execute_result"
    }
   ],
   "source": [
    "FS_data_new['povline'].value_counts(1)"
   ]
  },
  {
   "cell_type": "code",
   "execution_count": null,
   "id": "d2458c27",
   "metadata": {},
   "outputs": [],
   "source": [
    "# this implies that approximately 42% of the households were leaving in poverty and their income did not meet their basic needs."
   ]
  },
  {
   "cell_type": "code",
   "execution_count": 38,
   "id": "ba4a0c33",
   "metadata": {},
   "outputs": [
    {
     "data": {
      "text/html": [
       "<div>\n",
       "<style scoped>\n",
       "    .dataframe tbody tr th:only-of-type {\n",
       "        vertical-align: middle;\n",
       "    }\n",
       "\n",
       "    .dataframe tbody tr th {\n",
       "        vertical-align: top;\n",
       "    }\n",
       "\n",
       "    .dataframe thead th {\n",
       "        text-align: right;\n",
       "    }\n",
       "</style>\n",
       "<table border=\"1\" class=\"dataframe\">\n",
       "  <thead>\n",
       "    <tr style=\"text-align: right;\">\n",
       "      <th>windex3</th>\n",
       "      <th>highest</th>\n",
       "      <th>lowest</th>\n",
       "      <th>middle</th>\n",
       "    </tr>\n",
       "    <tr>\n",
       "      <th>hhedu</th>\n",
       "      <th></th>\n",
       "      <th></th>\n",
       "      <th></th>\n",
       "    </tr>\n",
       "  </thead>\n",
       "  <tbody>\n",
       "    <tr>\n",
       "      <th>highest</th>\n",
       "      <td>191</td>\n",
       "      <td>70</td>\n",
       "      <td>140</td>\n",
       "    </tr>\n",
       "    <tr>\n",
       "      <th>never attended</th>\n",
       "      <td>220</td>\n",
       "      <td>194</td>\n",
       "      <td>187</td>\n",
       "    </tr>\n",
       "    <tr>\n",
       "      <th>primary</th>\n",
       "      <td>1882</td>\n",
       "      <td>1364</td>\n",
       "      <td>1557</td>\n",
       "    </tr>\n",
       "    <tr>\n",
       "      <th>secondary</th>\n",
       "      <td>2358</td>\n",
       "      <td>1150</td>\n",
       "      <td>1643</td>\n",
       "    </tr>\n",
       "  </tbody>\n",
       "</table>\n",
       "</div>"
      ],
      "text/plain": [
       "windex3         highest  lowest  middle\n",
       "hhedu                                  \n",
       "highest             191      70     140\n",
       "never attended      220     194     187\n",
       "primary            1882    1364    1557\n",
       "secondary          2358    1150    1643"
      ]
     },
     "execution_count": 38,
     "metadata": {},
     "output_type": "execute_result"
    }
   ],
   "source": [
    "# finding out if Education had a big influence on household wealth tertile\n",
    "pd.crosstab(FS_data_new['hhedu'],FS_data_new['windex3'])"
   ]
  },
  {
   "cell_type": "code",
   "execution_count": 43,
   "id": "0b3d803c",
   "metadata": {},
   "outputs": [
    {
     "data": {
      "image/png": "[encoded data removed]",
      "text/plain": [
       "<Figure size 432x288 with 1 Axes>"
      ]
     },
     "metadata": {},
     "output_type": "display_data"
    }
   ],
   "source": [
    "axes=sns.countplot(data=FS_data_new, x='hhedu',hue='FS')\n",
    "axes.set_xlabel('EDUCATIONAL LEVEL')\n",
    "\n",
    "plt.show()"
   ]
  },
  {
   "cell_type": "markdown",
   "id": "8e075df0",
   "metadata": {},
   "source": [
    "# STATISTICS"
   ]
  },
  {
   "cell_type": "code",
   "execution_count": 68,
   "id": "29060cbc",
   "metadata": {},
   "outputs": [
    {
     "data": {
      "text/html": [
       "<div>\n",
       "<style scoped>\n",
       "    .dataframe tbody tr th:only-of-type {\n",
       "        vertical-align: middle;\n",
       "    }\n",
       "\n",
       "    .dataframe tbody tr th {\n",
       "        vertical-align: top;\n",
       "    }\n",
       "\n",
       "    .dataframe thead th {\n",
       "        text-align: right;\n",
       "    }\n",
       "</style>\n",
       "<table border=\"1\" class=\"dataframe\">\n",
       "  <thead>\n",
       "    <tr style=\"text-align: right;\">\n",
       "      <th></th>\n",
       "      <th>site</th>\n",
       "      <th>hhedu</th>\n",
       "      <th>hhhage</th>\n",
       "      <th>hhhsex</th>\n",
       "      <th>hhethnic</th>\n",
       "      <th>hhsize</th>\n",
       "      <th>u05</th>\n",
       "      <th>povline</th>\n",
       "      <th>windex3</th>\n",
       "      <th>windex5</th>\n",
       "      <th>FS_score</th>\n",
       "      <th>FS</th>\n",
       "    </tr>\n",
       "  </thead>\n",
       "  <tbody>\n",
       "    <tr>\n",
       "      <th>count</th>\n",
       "      <td>10956</td>\n",
       "      <td>10956</td>\n",
       "      <td>10956.000000</td>\n",
       "      <td>10956</td>\n",
       "      <td>10956</td>\n",
       "      <td>10956.000000</td>\n",
       "      <td>10956.000000</td>\n",
       "      <td>10956</td>\n",
       "      <td>10956</td>\n",
       "      <td>10956</td>\n",
       "      <td>10956.000000</td>\n",
       "      <td>10956</td>\n",
       "    </tr>\n",
       "    <tr>\n",
       "      <th>unique</th>\n",
       "      <td>2</td>\n",
       "      <td>4</td>\n",
       "      <td>NaN</td>\n",
       "      <td>2</td>\n",
       "      <td>6</td>\n",
       "      <td>NaN</td>\n",
       "      <td>NaN</td>\n",
       "      <td>2</td>\n",
       "      <td>3</td>\n",
       "      <td>5</td>\n",
       "      <td>NaN</td>\n",
       "      <td>3</td>\n",
       "    </tr>\n",
       "    <tr>\n",
       "      <th>top</th>\n",
       "      <td>viwandani</td>\n",
       "      <td>secondary</td>\n",
       "      <td>NaN</td>\n",
       "      <td>male</td>\n",
       "      <td>Kikuyu</td>\n",
       "      <td>NaN</td>\n",
       "      <td>NaN</td>\n",
       "      <td>no</td>\n",
       "      <td>highest</td>\n",
       "      <td>highest</td>\n",
       "      <td>NaN</td>\n",
       "      <td>Secure</td>\n",
       "    </tr>\n",
       "    <tr>\n",
       "      <th>freq</th>\n",
       "      <td>6225</td>\n",
       "      <td>5151</td>\n",
       "      <td>NaN</td>\n",
       "      <td>8312</td>\n",
       "      <td>3655</td>\n",
       "      <td>NaN</td>\n",
       "      <td>NaN</td>\n",
       "      <td>6372</td>\n",
       "      <td>4651</td>\n",
       "      <td>2821</td>\n",
       "      <td>NaN</td>\n",
       "      <td>4715</td>\n",
       "    </tr>\n",
       "    <tr>\n",
       "      <th>mean</th>\n",
       "      <td>NaN</td>\n",
       "      <td>NaN</td>\n",
       "      <td>38.098941</td>\n",
       "      <td>NaN</td>\n",
       "      <td>NaN</td>\n",
       "      <td>3.212304</td>\n",
       "      <td>0.424699</td>\n",
       "      <td>NaN</td>\n",
       "      <td>NaN</td>\n",
       "      <td>NaN</td>\n",
       "      <td>1.238317</td>\n",
       "      <td>NaN</td>\n",
       "    </tr>\n",
       "    <tr>\n",
       "      <th>std</th>\n",
       "      <td>NaN</td>\n",
       "      <td>NaN</td>\n",
       "      <td>12.303179</td>\n",
       "      <td>NaN</td>\n",
       "      <td>NaN</td>\n",
       "      <td>2.033229</td>\n",
       "      <td>0.651430</td>\n",
       "      <td>NaN</td>\n",
       "      <td>NaN</td>\n",
       "      <td>NaN</td>\n",
       "      <td>1.217878</td>\n",
       "      <td>NaN</td>\n",
       "    </tr>\n",
       "    <tr>\n",
       "      <th>min</th>\n",
       "      <td>NaN</td>\n",
       "      <td>NaN</td>\n",
       "      <td>18.000000</td>\n",
       "      <td>NaN</td>\n",
       "      <td>NaN</td>\n",
       "      <td>1.000000</td>\n",
       "      <td>0.000000</td>\n",
       "      <td>NaN</td>\n",
       "      <td>NaN</td>\n",
       "      <td>NaN</td>\n",
       "      <td>0.000000</td>\n",
       "      <td>NaN</td>\n",
       "    </tr>\n",
       "    <tr>\n",
       "      <th>25%</th>\n",
       "      <td>NaN</td>\n",
       "      <td>NaN</td>\n",
       "      <td>29.000000</td>\n",
       "      <td>NaN</td>\n",
       "      <td>NaN</td>\n",
       "      <td>1.000000</td>\n",
       "      <td>0.000000</td>\n",
       "      <td>NaN</td>\n",
       "      <td>NaN</td>\n",
       "      <td>NaN</td>\n",
       "      <td>0.000000</td>\n",
       "      <td>NaN</td>\n",
       "    </tr>\n",
       "    <tr>\n",
       "      <th>50%</th>\n",
       "      <td>NaN</td>\n",
       "      <td>NaN</td>\n",
       "      <td>36.000000</td>\n",
       "      <td>NaN</td>\n",
       "      <td>NaN</td>\n",
       "      <td>3.000000</td>\n",
       "      <td>0.000000</td>\n",
       "      <td>NaN</td>\n",
       "      <td>NaN</td>\n",
       "      <td>NaN</td>\n",
       "      <td>1.000000</td>\n",
       "      <td>NaN</td>\n",
       "    </tr>\n",
       "    <tr>\n",
       "      <th>75%</th>\n",
       "      <td>NaN</td>\n",
       "      <td>NaN</td>\n",
       "      <td>45.000000</td>\n",
       "      <td>NaN</td>\n",
       "      <td>NaN</td>\n",
       "      <td>4.000000</td>\n",
       "      <td>1.000000</td>\n",
       "      <td>NaN</td>\n",
       "      <td>NaN</td>\n",
       "      <td>NaN</td>\n",
       "      <td>2.000000</td>\n",
       "      <td>NaN</td>\n",
       "    </tr>\n",
       "    <tr>\n",
       "      <th>max</th>\n",
       "      <td>NaN</td>\n",
       "      <td>NaN</td>\n",
       "      <td>100.000000</td>\n",
       "      <td>NaN</td>\n",
       "      <td>NaN</td>\n",
       "      <td>20.000000</td>\n",
       "      <td>5.000000</td>\n",
       "      <td>NaN</td>\n",
       "      <td>NaN</td>\n",
       "      <td>NaN</td>\n",
       "      <td>4.000000</td>\n",
       "      <td>NaN</td>\n",
       "    </tr>\n",
       "  </tbody>\n",
       "</table>\n",
       "</div>"
      ],
      "text/plain": [
       "             site      hhedu        hhhage hhhsex hhethnic        hhsize  \\\n",
       "count       10956      10956  10956.000000  10956    10956  10956.000000   \n",
       "unique          2          4           NaN      2        6           NaN   \n",
       "top     viwandani  secondary           NaN   male   Kikuyu           NaN   \n",
       "freq         6225       5151           NaN   8312     3655           NaN   \n",
       "mean          NaN        NaN     38.098941    NaN      NaN      3.212304   \n",
       "std           NaN        NaN     12.303179    NaN      NaN      2.033229   \n",
       "min           NaN        NaN     18.000000    NaN      NaN      1.000000   \n",
       "25%           NaN        NaN     29.000000    NaN      NaN      1.000000   \n",
       "50%           NaN        NaN     36.000000    NaN      NaN      3.000000   \n",
       "75%           NaN        NaN     45.000000    NaN      NaN      4.000000   \n",
       "max           NaN        NaN    100.000000    NaN      NaN     20.000000   \n",
       "\n",
       "                 u05 povline  windex3  windex5      FS_score      FS  \n",
       "count   10956.000000   10956    10956    10956  10956.000000   10956  \n",
       "unique           NaN       2        3        5           NaN       3  \n",
       "top              NaN      no  highest  highest           NaN  Secure  \n",
       "freq             NaN    6372     4651     2821           NaN    4715  \n",
       "mean        0.424699     NaN      NaN      NaN      1.238317     NaN  \n",
       "std         0.651430     NaN      NaN      NaN      1.217878     NaN  \n",
       "min         0.000000     NaN      NaN      NaN      0.000000     NaN  \n",
       "25%         0.000000     NaN      NaN      NaN      0.000000     NaN  \n",
       "50%         0.000000     NaN      NaN      NaN      1.000000     NaN  \n",
       "75%         1.000000     NaN      NaN      NaN      2.000000     NaN  \n",
       "max         5.000000     NaN      NaN      NaN      4.000000     NaN  "
      ]
     },
     "execution_count": 68,
     "metadata": {},
     "output_type": "execute_result"
    }
   ],
   "source": [
    "# decribing the data\n",
    "FS_data_new.describe(exclude='category')"
   ]
  },
  {
   "cell_type": "markdown",
   "id": "3e9be165",
   "metadata": {},
   "source": [
    "# MACHINE LEARNING MODEL"
   ]
  },
  {
   "cell_type": "code",
   "execution_count": 47,
   "id": "3ceebb2f",
   "metadata": {},
   "outputs": [],
   "source": [
    "# changing categorical data to numerical values\n",
    "from sklearn.preprocessing import LabelEncoder\n",
    "# initialising and assigning it to le\n",
    "le=LabelEncoder()"
   ]
  },
  {
   "cell_type": "code",
   "execution_count": 69,
   "id": "8f7bb8b7",
   "metadata": {},
   "outputs": [],
   "source": [
    "FS_data_new_1=FS_data_new.copy()"
   ]
  },
  {
   "cell_type": "code",
   "execution_count": 70,
   "id": "13a6ff45",
   "metadata": {},
   "outputs": [],
   "source": [
    "for col in FS_data_new_1.columns:\n",
    "    if FS_data_new_1[col].dtype == 'object':\n",
    "        FS_data_new_1[col]=le.fit_transform(FS_data_new_1[col])\n",
    "    "
   ]
  },
  {
   "cell_type": "code",
   "execution_count": 71,
   "id": "d927babf",
   "metadata": {},
   "outputs": [
    {
     "data": {
      "text/html": [
       "<div>\n",
       "<style scoped>\n",
       "    .dataframe tbody tr th:only-of-type {\n",
       "        vertical-align: middle;\n",
       "    }\n",
       "\n",
       "    .dataframe tbody tr th {\n",
       "        vertical-align: top;\n",
       "    }\n",
       "\n",
       "    .dataframe thead th {\n",
       "        text-align: right;\n",
       "    }\n",
       "</style>\n",
       "<table border=\"1\" class=\"dataframe\">\n",
       "  <thead>\n",
       "    <tr style=\"text-align: right;\">\n",
       "      <th></th>\n",
       "      <th>site</th>\n",
       "      <th>hhedu</th>\n",
       "      <th>hhhage</th>\n",
       "      <th>hhhsex</th>\n",
       "      <th>hhethnic</th>\n",
       "      <th>hhsize</th>\n",
       "      <th>u05</th>\n",
       "      <th>povline</th>\n",
       "      <th>windex3</th>\n",
       "      <th>windex5</th>\n",
       "      <th>FS_score</th>\n",
       "      <th>FS</th>\n",
       "    </tr>\n",
       "  </thead>\n",
       "  <tbody>\n",
       "    <tr>\n",
       "      <th>0</th>\n",
       "      <td>1</td>\n",
       "      <td>2</td>\n",
       "      <td>18</td>\n",
       "      <td>0</td>\n",
       "      <td>5</td>\n",
       "      <td>6</td>\n",
       "      <td>1</td>\n",
       "      <td>1</td>\n",
       "      <td>2</td>\n",
       "      <td>0</td>\n",
       "      <td>0</td>\n",
       "      <td>1</td>\n",
       "    </tr>\n",
       "    <tr>\n",
       "      <th>1</th>\n",
       "      <td>1</td>\n",
       "      <td>2</td>\n",
       "      <td>31</td>\n",
       "      <td>1</td>\n",
       "      <td>5</td>\n",
       "      <td>1</td>\n",
       "      <td>0</td>\n",
       "      <td>1</td>\n",
       "      <td>1</td>\n",
       "      <td>2</td>\n",
       "      <td>3</td>\n",
       "      <td>2</td>\n",
       "    </tr>\n",
       "    <tr>\n",
       "      <th>2</th>\n",
       "      <td>1</td>\n",
       "      <td>2</td>\n",
       "      <td>45</td>\n",
       "      <td>1</td>\n",
       "      <td>5</td>\n",
       "      <td>1</td>\n",
       "      <td>0</td>\n",
       "      <td>0</td>\n",
       "      <td>0</td>\n",
       "      <td>0</td>\n",
       "      <td>0</td>\n",
       "      <td>1</td>\n",
       "    </tr>\n",
       "    <tr>\n",
       "      <th>3</th>\n",
       "      <td>1</td>\n",
       "      <td>3</td>\n",
       "      <td>18</td>\n",
       "      <td>1</td>\n",
       "      <td>5</td>\n",
       "      <td>1</td>\n",
       "      <td>0</td>\n",
       "      <td>0</td>\n",
       "      <td>2</td>\n",
       "      <td>4</td>\n",
       "      <td>1</td>\n",
       "      <td>0</td>\n",
       "    </tr>\n",
       "    <tr>\n",
       "      <th>4</th>\n",
       "      <td>0</td>\n",
       "      <td>3</td>\n",
       "      <td>58</td>\n",
       "      <td>1</td>\n",
       "      <td>5</td>\n",
       "      <td>2</td>\n",
       "      <td>1</td>\n",
       "      <td>0</td>\n",
       "      <td>0</td>\n",
       "      <td>0</td>\n",
       "      <td>0</td>\n",
       "      <td>1</td>\n",
       "    </tr>\n",
       "  </tbody>\n",
       "</table>\n",
       "</div>"
      ],
      "text/plain": [
       "   site  hhedu  hhhage  hhhsex  hhethnic  hhsize  u05  povline  windex3  \\\n",
       "0     1      2      18       0         5       6    1        1        2   \n",
       "1     1      2      31       1         5       1    0        1        1   \n",
       "2     1      2      45       1         5       1    0        0        0   \n",
       "3     1      3      18       1         5       1    0        0        2   \n",
       "4     0      3      58       1         5       2    1        0        0   \n",
       "\n",
       "   windex5  FS_score  FS  \n",
       "0        0         0   1  \n",
       "1        2         3   2  \n",
       "2        0         0   1  \n",
       "3        4         1   0  \n",
       "4        0         0   1  "
      ]
     },
     "execution_count": 71,
     "metadata": {},
     "output_type": "execute_result"
    }
   ],
   "source": [
    "FS_data_new_1.head()"
   ]
  },
  {
   "cell_type": "code",
   "execution_count": 75,
   "id": "c9d720d2",
   "metadata": {},
   "outputs": [],
   "source": [
    "# dropping FS_core to avoid multicollinearity of wrong estimates\n",
    "FS_data_new_1=FS_data_new_1.drop('FS_score',axis=1)\n"
   ]
  },
  {
   "cell_type": "code",
   "execution_count": 76,
   "id": "6c23b951",
   "metadata": {},
   "outputs": [
    {
     "data": {
      "text/html": [
       "<div>\n",
       "<style scoped>\n",
       "    .dataframe tbody tr th:only-of-type {\n",
       "        vertical-align: middle;\n",
       "    }\n",
       "\n",
       "    .dataframe tbody tr th {\n",
       "        vertical-align: top;\n",
       "    }\n",
       "\n",
       "    .dataframe thead th {\n",
       "        text-align: right;\n",
       "    }\n",
       "</style>\n",
       "<table border=\"1\" class=\"dataframe\">\n",
       "  <thead>\n",
       "    <tr style=\"text-align: right;\">\n",
       "      <th></th>\n",
       "      <th>site</th>\n",
       "      <th>hhedu</th>\n",
       "      <th>hhhage</th>\n",
       "      <th>hhhsex</th>\n",
       "      <th>hhethnic</th>\n",
       "      <th>hhsize</th>\n",
       "      <th>u05</th>\n",
       "      <th>povline</th>\n",
       "      <th>windex3</th>\n",
       "      <th>windex5</th>\n",
       "      <th>FS</th>\n",
       "    </tr>\n",
       "  </thead>\n",
       "  <tbody>\n",
       "    <tr>\n",
       "      <th>0</th>\n",
       "      <td>1</td>\n",
       "      <td>2</td>\n",
       "      <td>18</td>\n",
       "      <td>0</td>\n",
       "      <td>5</td>\n",
       "      <td>6</td>\n",
       "      <td>1</td>\n",
       "      <td>1</td>\n",
       "      <td>2</td>\n",
       "      <td>0</td>\n",
       "      <td>1</td>\n",
       "    </tr>\n",
       "    <tr>\n",
       "      <th>1</th>\n",
       "      <td>1</td>\n",
       "      <td>2</td>\n",
       "      <td>31</td>\n",
       "      <td>1</td>\n",
       "      <td>5</td>\n",
       "      <td>1</td>\n",
       "      <td>0</td>\n",
       "      <td>1</td>\n",
       "      <td>1</td>\n",
       "      <td>2</td>\n",
       "      <td>2</td>\n",
       "    </tr>\n",
       "    <tr>\n",
       "      <th>2</th>\n",
       "      <td>1</td>\n",
       "      <td>2</td>\n",
       "      <td>45</td>\n",
       "      <td>1</td>\n",
       "      <td>5</td>\n",
       "      <td>1</td>\n",
       "      <td>0</td>\n",
       "      <td>0</td>\n",
       "      <td>0</td>\n",
       "      <td>0</td>\n",
       "      <td>1</td>\n",
       "    </tr>\n",
       "    <tr>\n",
       "      <th>3</th>\n",
       "      <td>1</td>\n",
       "      <td>3</td>\n",
       "      <td>18</td>\n",
       "      <td>1</td>\n",
       "      <td>5</td>\n",
       "      <td>1</td>\n",
       "      <td>0</td>\n",
       "      <td>0</td>\n",
       "      <td>2</td>\n",
       "      <td>4</td>\n",
       "      <td>0</td>\n",
       "    </tr>\n",
       "    <tr>\n",
       "      <th>4</th>\n",
       "      <td>0</td>\n",
       "      <td>3</td>\n",
       "      <td>58</td>\n",
       "      <td>1</td>\n",
       "      <td>5</td>\n",
       "      <td>2</td>\n",
       "      <td>1</td>\n",
       "      <td>0</td>\n",
       "      <td>0</td>\n",
       "      <td>0</td>\n",
       "      <td>1</td>\n",
       "    </tr>\n",
       "  </tbody>\n",
       "</table>\n",
       "</div>"
      ],
      "text/plain": [
       "   site  hhedu  hhhage  hhhsex  hhethnic  hhsize  u05  povline  windex3  \\\n",
       "0     1      2      18       0         5       6    1        1        2   \n",
       "1     1      2      31       1         5       1    0        1        1   \n",
       "2     1      2      45       1         5       1    0        0        0   \n",
       "3     1      3      18       1         5       1    0        0        2   \n",
       "4     0      3      58       1         5       2    1        0        0   \n",
       "\n",
       "   windex5  FS  \n",
       "0        0   1  \n",
       "1        2   2  \n",
       "2        0   1  \n",
       "3        4   0  \n",
       "4        0   1  "
      ]
     },
     "execution_count": 76,
     "metadata": {},
     "output_type": "execute_result"
    }
   ],
   "source": [
    "FS_data_new_1.head()"
   ]
  },
  {
   "cell_type": "code",
   "execution_count": 78,
   "id": "f362ed10",
   "metadata": {},
   "outputs": [],
   "source": [
    "# feature selection\n",
    "X = FS_data_new_1.drop(['FS'],axis=1)"
   ]
  },
  {
   "cell_type": "code",
   "execution_count": 79,
   "id": "66911964",
   "metadata": {},
   "outputs": [],
   "source": [
    "Y= FS_data_new_1['FS']"
   ]
  },
  {
   "cell_type": "code",
   "execution_count": 81,
   "id": "a5696ce7",
   "metadata": {},
   "outputs": [
    {
     "data": {
      "text/plain": [
       "0    1\n",
       "1    2\n",
       "2    1\n",
       "3    0\n",
       "4    1\n",
       "Name: FS, dtype: int32"
      ]
     },
     "execution_count": 81,
     "metadata": {},
     "output_type": "execute_result"
    }
   ],
   "source": [
    "Y.head()"
   ]
  },
  {
   "cell_type": "code",
   "execution_count": 111,
   "id": "85f0252d",
   "metadata": {},
   "outputs": [],
   "source": [
    "from sklearn.model_selection import train_test_split\n",
    "# choosing a proportion of the dataset for training  and testing\n",
    "X_train,X_test,Y_train,Y_test= train_test_split(X,Y, train_size=0.8, test_size=0.2, random_state=42 )"
   ]
  },
  {
   "cell_type": "code",
   "execution_count": 112,
   "id": "fe6e6f13",
   "metadata": {},
   "outputs": [],
   "source": [
    "\n",
    "from sklearn.ensemble import RandomForestClassifier\n",
    "# initializing the machine learning algorithm RandomForestClassifier\n",
    "model = RandomForestClassifier(n_estimators=400,max_depth=8)\n"
   ]
  },
  {
   "cell_type": "markdown",
   "id": "6ee0f4ef",
   "metadata": {},
   "source": [
    "# HYPERPARAMETER TUNING "
   ]
  },
  {
   "cell_type": "code",
   "execution_count": 119,
   "id": "b10f04c3",
   "metadata": {},
   "outputs": [
    {
     "data": {
      "text/plain": [
       "GridSearchCV(cv=5,\n",
       "             estimator=RandomForestClassifier(max_depth=8, n_estimators=400),\n",
       "             param_grid={'max_depth': [2, 4, 8, 16, 32, 64, None],\n",
       "                         'n_estimators': [5, 10, 50, 100, 250, 300, 350, 400,\n",
       "                                          450, 500]})"
      ]
     },
     "execution_count": 119,
     "metadata": {},
     "output_type": "execute_result"
    }
   ],
   "source": [
    "parameters = {\n",
    "    \"n_estimators\":[5,10,50,100,250,300,350,400,450,500],\n",
    "    \"max_depth\":[2,4,8,16,32,64,None]\n",
    "    \n",
    "}\n",
    "from sklearn.model_selection import GridSearchCV\n",
    "cv = GridSearchCV(model,parameters,cv=5)\n",
    "cv.fit(X,Y.values.ravel())"
   ]
  },
  {
   "cell_type": "code",
   "execution_count": 120,
   "id": "6c3a64ea",
   "metadata": {},
   "outputs": [],
   "source": [
    "def display(results):\n",
    "    print(f'Best parameters are: {results.best_params_}')\n",
    "    print(f'Best Score:{results.best_score_}')\n",
    "    print(\"\\n\")\n",
    "    mean_score = results.cv_results_['mean_test_score']\n",
    "    std_score = results.cv_results_['std_test_score']\n",
    "    params = results.cv_results_['params']\n",
    "    for mean,std,params in zip(mean_score,std_score,params):\n",
    "        print(f'{round(mean,3)} + or -{round(std,3)} for the {params}')"
   ]
  },
  {
   "cell_type": "code",
   "execution_count": 121,
   "id": "50aa5dd8",
   "metadata": {},
   "outputs": [
    {
     "name": "stdout",
     "output_type": "stream",
     "text": [
      "Best parameters are: {'max_depth': 8, 'n_estimators': 300}\n",
      "Best Score:0.5214478940056703\n",
      "\n",
      "\n",
      "0.489 + or -0.005 for the {'max_depth': 2, 'n_estimators': 5}\n",
      "0.488 + or -0.005 for the {'max_depth': 2, 'n_estimators': 10}\n",
      "0.488 + or -0.003 for the {'max_depth': 2, 'n_estimators': 50}\n",
      "0.489 + or -0.003 for the {'max_depth': 2, 'n_estimators': 100}\n",
      "0.489 + or -0.003 for the {'max_depth': 2, 'n_estimators': 250}\n",
      "0.486 + or -0.004 for the {'max_depth': 2, 'n_estimators': 300}\n",
      "0.487 + or -0.003 for the {'max_depth': 2, 'n_estimators': 350}\n",
      "0.486 + or -0.003 for the {'max_depth': 2, 'n_estimators': 400}\n",
      "0.487 + or -0.002 for the {'max_depth': 2, 'n_estimators': 450}\n",
      "0.486 + or -0.003 for the {'max_depth': 2, 'n_estimators': 500}\n",
      "0.506 + or -0.007 for the {'max_depth': 4, 'n_estimators': 5}\n",
      "0.509 + or -0.012 for the {'max_depth': 4, 'n_estimators': 10}\n",
      "0.511 + or -0.013 for the {'max_depth': 4, 'n_estimators': 50}\n",
      "0.512 + or -0.013 for the {'max_depth': 4, 'n_estimators': 100}\n",
      "0.51 + or -0.01 for the {'max_depth': 4, 'n_estimators': 250}\n",
      "0.512 + or -0.01 for the {'max_depth': 4, 'n_estimators': 300}\n",
      "0.513 + or -0.011 for the {'max_depth': 4, 'n_estimators': 350}\n",
      "0.512 + or -0.012 for the {'max_depth': 4, 'n_estimators': 400}\n",
      "0.513 + or -0.011 for the {'max_depth': 4, 'n_estimators': 450}\n",
      "0.511 + or -0.011 for the {'max_depth': 4, 'n_estimators': 500}\n",
      "0.502 + or -0.015 for the {'max_depth': 8, 'n_estimators': 5}\n",
      "0.512 + or -0.013 for the {'max_depth': 8, 'n_estimators': 10}\n",
      "0.521 + or -0.016 for the {'max_depth': 8, 'n_estimators': 50}\n",
      "0.518 + or -0.013 for the {'max_depth': 8, 'n_estimators': 100}\n",
      "0.518 + or -0.014 for the {'max_depth': 8, 'n_estimators': 250}\n",
      "0.521 + or -0.013 for the {'max_depth': 8, 'n_estimators': 300}\n",
      "0.52 + or -0.013 for the {'max_depth': 8, 'n_estimators': 350}\n",
      "0.521 + or -0.011 for the {'max_depth': 8, 'n_estimators': 400}\n",
      "0.52 + or -0.013 for the {'max_depth': 8, 'n_estimators': 450}\n",
      "0.518 + or -0.013 for the {'max_depth': 8, 'n_estimators': 500}\n",
      "0.457 + or -0.007 for the {'max_depth': 16, 'n_estimators': 5}\n",
      "0.466 + or -0.011 for the {'max_depth': 16, 'n_estimators': 10}\n",
      "0.473 + or -0.01 for the {'max_depth': 16, 'n_estimators': 50}\n",
      "0.476 + or -0.011 for the {'max_depth': 16, 'n_estimators': 100}\n",
      "0.478 + or -0.009 for the {'max_depth': 16, 'n_estimators': 250}\n",
      "0.48 + or -0.013 for the {'max_depth': 16, 'n_estimators': 300}\n",
      "0.48 + or -0.012 for the {'max_depth': 16, 'n_estimators': 350}\n",
      "0.477 + or -0.012 for the {'max_depth': 16, 'n_estimators': 400}\n",
      "0.478 + or -0.013 for the {'max_depth': 16, 'n_estimators': 450}\n",
      "0.476 + or -0.012 for the {'max_depth': 16, 'n_estimators': 500}\n",
      "0.452 + or -0.011 for the {'max_depth': 32, 'n_estimators': 5}\n",
      "0.458 + or -0.012 for the {'max_depth': 32, 'n_estimators': 10}\n",
      "0.463 + or -0.009 for the {'max_depth': 32, 'n_estimators': 50}\n",
      "0.462 + or -0.01 for the {'max_depth': 32, 'n_estimators': 100}\n",
      "0.465 + or -0.011 for the {'max_depth': 32, 'n_estimators': 250}\n",
      "0.462 + or -0.012 for the {'max_depth': 32, 'n_estimators': 300}\n",
      "0.465 + or -0.01 for the {'max_depth': 32, 'n_estimators': 350}\n",
      "0.464 + or -0.01 for the {'max_depth': 32, 'n_estimators': 400}\n",
      "0.464 + or -0.012 for the {'max_depth': 32, 'n_estimators': 450}\n",
      "0.467 + or -0.012 for the {'max_depth': 32, 'n_estimators': 500}\n",
      "0.451 + or -0.012 for the {'max_depth': 64, 'n_estimators': 5}\n",
      "0.456 + or -0.01 for the {'max_depth': 64, 'n_estimators': 10}\n",
      "0.463 + or -0.011 for the {'max_depth': 64, 'n_estimators': 50}\n",
      "0.464 + or -0.011 for the {'max_depth': 64, 'n_estimators': 100}\n",
      "0.464 + or -0.013 for the {'max_depth': 64, 'n_estimators': 250}\n",
      "0.462 + or -0.011 for the {'max_depth': 64, 'n_estimators': 300}\n",
      "0.463 + or -0.011 for the {'max_depth': 64, 'n_estimators': 350}\n",
      "0.467 + or -0.011 for the {'max_depth': 64, 'n_estimators': 400}\n",
      "0.468 + or -0.012 for the {'max_depth': 64, 'n_estimators': 450}\n",
      "0.464 + or -0.011 for the {'max_depth': 64, 'n_estimators': 500}\n",
      "0.445 + or -0.009 for the {'max_depth': None, 'n_estimators': 5}\n",
      "0.45 + or -0.01 for the {'max_depth': None, 'n_estimators': 10}\n",
      "0.463 + or -0.012 for the {'max_depth': None, 'n_estimators': 50}\n",
      "0.463 + or -0.009 for the {'max_depth': None, 'n_estimators': 100}\n",
      "0.467 + or -0.012 for the {'max_depth': None, 'n_estimators': 250}\n",
      "0.465 + or -0.011 for the {'max_depth': None, 'n_estimators': 300}\n",
      "0.464 + or -0.011 for the {'max_depth': None, 'n_estimators': 350}\n",
      "0.463 + or -0.01 for the {'max_depth': None, 'n_estimators': 400}\n",
      "0.466 + or -0.013 for the {'max_depth': None, 'n_estimators': 450}\n",
      "0.464 + or -0.013 for the {'max_depth': None, 'n_estimators': 500}\n"
     ]
    }
   ],
   "source": [
    "display(cv)\n"
   ]
  },
  {
   "cell_type": "code",
   "execution_count": 113,
   "id": "bc65c8f6",
   "metadata": {},
   "outputs": [
    {
     "data": {
      "text/plain": [
       "RandomForestClassifier(max_depth=8, n_estimators=400)"
      ]
     },
     "execution_count": 113,
     "metadata": {},
     "output_type": "execute_result"
    }
   ],
   "source": [
    "model.fit(X_train,Y_train)"
   ]
  },
  {
   "cell_type": "code",
   "execution_count": 114,
   "id": "098f3447",
   "metadata": {},
   "outputs": [],
   "source": [
    "Y_pred=model.predict(X_test)"
   ]
  },
  {
   "cell_type": "markdown",
   "id": "36e86704",
   "metadata": {},
   "source": [
    "# MODEL EVALUATION"
   ]
  },
  {
   "cell_type": "code",
   "execution_count": 115,
   "id": "f9a327f2",
   "metadata": {},
   "outputs": [],
   "source": [
    "from sklearn import metrics"
   ]
  },
  {
   "cell_type": "code",
   "execution_count": 116,
   "id": "addb1257",
   "metadata": {},
   "outputs": [
    {
     "name": "stdout",
     "output_type": "stream",
     "text": [
      "Accuracy 0.5118613138686131\n"
     ]
    }
   ],
   "source": [
    "print('Accuracy',metrics.accuracy_score(Y_test,Y_pred))"
   ]
  },
  {
   "cell_type": "code",
   "execution_count": 117,
   "id": "04197ca1",
   "metadata": {},
   "outputs": [],
   "source": [
    "cm=metrics.confusion_matrix(Y_test,Y_pred)"
   ]
  },
  {
   "cell_type": "code",
   "execution_count": 118,
   "id": "9fc631bc",
   "metadata": {},
   "outputs": [
    {
     "data": {
      "text/plain": [
       "<AxesSubplot:>"
      ]
     },
     "execution_count": 118,
     "metadata": {},
     "output_type": "execute_result"
    },
    {
     "data": {
      "image/png": "[encoded data removed]",
      "text/plain": [
       "<Figure size 432x288 with 2 Axes>"
      ]
     },
     "metadata": {},
     "output_type": "display_data"
    }
   ],
   "source": [
    "sns.heatmap(cm,annot=True,fmt='4f')"
   ]
  },
  {
   "cell_type": "code",
   "execution_count": null,
   "id": "5e8cd82f",
   "metadata": {},
   "outputs": [],
   "source": []
  }
 ],
 "metadata": {
  "kernelspec": {
   "display_name": "Python 3",
   "language": "python",
   "name": "python3"
  },
  "language_info": {
   "codemirror_mode": {
    "name": "ipython",
    "version": 3
   },
   "file_extension": ".py",
   "mimetype": "text/x-python",
   "name": "python",
   "nbconvert_exporter": "python",
   "pygments_lexer": "ipython3",
   "version": "3.8.8"
  }
 },
 "nbformat": 4,
 "nbformat_minor": 5
}
